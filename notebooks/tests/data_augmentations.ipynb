{
 "cells": [
  {
   "cell_type": "code",
   "execution_count": 1,
   "metadata": {},
   "outputs": [],
   "source": [
    "import sys, os\n",
    "sys.path.append('/home/daniel/Documents/Uni/MT/poi-prediction')\n",
    "from src.dataset.dataset import GruberDataset\n",
    "from src.transforms.transforms import RandAffine\n",
    "\n",
    "from utils.misc import np_to_bids_nii\n",
    "from BIDS import POI, NII\n",
    "from BIDS.vert_constants import conversion_poi, conversion_poi2text\n",
    "from BIDS.POI_plotter import visualize_pois\n",
    "import torch\n",
    "import pandas as pd\n",
    "\n",
    "import numpy as np\n",
    "import matplotlib.pyplot as plt\n",
    "import ipywidgets as widgets\n",
    "\n",
    "gruber_master_df = pd.read_csv('/home/daniel/Data/Gruber/cutouts_scale-1-1-1/master_df.csv')\n",
    "ds = GruberDataset(\n",
    "    master_df = gruber_master_df,\n",
    "    input_shape = (128,128,96),\n",
    "    include_com = False,\n",
    "    flip_prob = 0\n",
    ")"
   ]
  },
  {
   "cell_type": "code",
   "execution_count": 2,
   "metadata": {},
   "outputs": [],
   "source": [
    "#Iterate through the ds to create a mapping from subject-vertebra pair to corresponding index\n",
    "sub_vert_to_idx = {}\n",
    "for idx, dd in enumerate(ds):\n",
    "    sub_vert_to_idx[(dd['subject'], dd['vertebra'])] = idx"
   ]
  },
  {
   "cell_type": "code",
   "execution_count": 3,
   "metadata": {},
   "outputs": [
    {
     "data": {
      "text/plain": [
       "103"
      ]
     },
     "execution_count": 3,
     "metadata": {},
     "output_type": "execute_result"
    }
   ],
   "source": [
    "sub_vert_to_idx['WS-45', 8]"
   ]
  },
  {
   "cell_type": "code",
   "execution_count": 4,
   "metadata": {},
   "outputs": [],
   "source": [
    "# Define some useful utility functions\n",
    "def get_dd_ctd(dd, poi_list = [90,91,92,93]):\n",
    "    ctd = {}\n",
    "    vertebra = dd['vertebra']\n",
    "\n",
    "    for poi_coords, poi_idx in zip(dd['target'], dd['target_indices']):\n",
    "        coords = (poi_coords[0].item(), poi_coords[1].item(), poi_coords[2].item())\n",
    "        if poi_list is None or poi_idx in poi_list:\n",
    "            ctd[vertebra, poi_idx.item()] = coords\n",
    "\n",
    "    ctd = POI(centroids = ctd, orientation = ('L', 'A', 'S'), zoom = (1,1,1), shape = (128,128,96))\n",
    "    return ctd\n",
    "\n",
    "def get_ctd(target, target_indices, vertebra, poi_list):\n",
    "    ctd = {}\n",
    "    for poi_coords, poi_idx in zip(target, target_indices):\n",
    "        coords = (poi_coords[0].item(), poi_coords[1].item(), poi_coords[2].item())\n",
    "        if poi_list is None or poi_idx in poi_list:\n",
    "            ctd[vertebra, poi_idx.item()] = coords\n",
    "\n",
    "    ctd = POI(centroids = ctd, orientation = ('L', 'A', 'S'), zoom = (1,1,1), shape = (128,128,96))\n",
    "    return ctd\n",
    "\n",
    "def get_vert_msk_nii(dd):\n",
    "    vertebra = dd['vertebra']\n",
    "    msk = dd['input'].squeeze(0)\n",
    "    return vertseg_to_vert_msk_nii(vertebra, msk)\n",
    "\n",
    "def vertseg_to_vert_msk_nii(vertebra, msk):\n",
    "    vert_msk = (msk != 0) * vertebra\n",
    "    vert_msk_nii = np_to_bids_nii(vert_msk.numpy().astype(np.int32))\n",
    "    vert_msk_nii.seg = True\n",
    "    return vert_msk_nii\n",
    "\n",
    "def get_vertseg_nii(dd):\n",
    "    vertseg = dd['input'].squeeze(0)\n",
    "    vertseg_nii = np_to_bids_nii(vertseg.numpy().astype(np.int32))\n",
    "    vertseg_nii.seg = True\n",
    "    return vertseg_nii\n",
    "\n",
    "def get_vert_points(dd):\n",
    "    msk = dd['input'].squeeze(0)\n",
    "    vert_points = torch.where(msk)\n",
    "    vert_points = torch.stack(vert_points, dim=1)\n",
    "    return vert_points\n",
    "\n",
    "def get_target_entry_points(dd):\n",
    "    ctd = get_ctd(dd)\n",
    "    vertebra = dd['vertebra']\n",
    "    p_90 = torch.tensor(ctd[vertebra, 90])\n",
    "    p_92 = torch.tensor(ctd[vertebra, 92])\n",
    "\n",
    "    p_91 = torch.tensor(ctd[vertebra, 91])\n",
    "    p_93 = torch.tensor(ctd[vertebra, 93])\n",
    "\n",
    "    return p_90, p_92, p_91, p_93\n",
    "\n",
    "def tensor_to_ctd(t, vertebra, origin, rotation, idx_list = None, shape = (128, 128, 96), zoom = (1,1,1), offset = (0,0,0)):\n",
    "    ctd = {}\n",
    "    for i, coords in enumerate(t):\n",
    "        coords = coords.float() - torch.tensor(offset)\n",
    "        coords = (coords[0].item(), coords[1].item(), coords[2].item())\n",
    "        if idx_list is None:\n",
    "            ctd[vertebra, i] = coords\n",
    "        elif i < len(idx_list):\n",
    "            ctd[vertebra, idx_list[i]] = coords\n",
    "\n",
    "    ctd = POI(centroids = ctd, orientation = ('L', 'A', 'S'), zoom = zoom, shape = shape, origin = origin, rotation = rotation)\n",
    "    return ctd"
   ]
  },
  {
   "cell_type": "code",
   "execution_count": 5,
   "metadata": {},
   "outputs": [],
   "source": [
    "poi_types = {f\"{key}: {value}\": key for key, value in conversion_poi2text.items()}\n",
    "\n",
    "def display_dd_pois(dd):\n",
    "    display_pois(\n",
    "        seg_vert = get_vert_msk_nii(dd),\n",
    "        target = dd['target'],\n",
    "        target_indices = dd['target_indices'],\n",
    "        vertebra = dd['vertebra'],\n",
    "        subject = dd['subject']\n",
    "    )\n",
    "\n",
    "def display_pois(seg_vert, target, target_indices, vertebra, subject):\n",
    "    # Multi-Select for POI Types\n",
    "    poi_type_select = widgets.SelectMultiple(\n",
    "        options=poi_types,\n",
    "        rows=23,\n",
    "        description='POI Types',\n",
    "        tooltip='Select the POI types to visualize',\n",
    "        disabled=False\n",
    "    )\n",
    "\n",
    "    # Button for updating the visualization\n",
    "    update_button = widgets.Button(\n",
    "        description='Update',\n",
    "        disabled=False,\n",
    "        button_style='', # 'success', 'info', 'warning', 'danger' or ''\n",
    "        tooltip='Update the visualization',\n",
    "        icon='check' # (FontAwesome names without the `fa-` prefix)\n",
    "    )\n",
    "\n",
    "    def on_button_clicked(b):\n",
    "        print(target, target_indices, vertebra, subject)\n",
    "        ctd = get_ctd(target, target_indices, vertebra, poi_list=poi_type_select.value)\n",
    "        print(f'Visualizing Subject {subject}, Vertebra {vertebra}, POIs {poi_type_select.value}')\n",
    "        print(ctd)\n",
    "        visualize_pois(\n",
    "            ctd = ctd,\n",
    "            seg_vert = seg_vert,\n",
    "            vert_idx_list = [vertebra],\n",
    "        )\n",
    "\n",
    "    update_button.on_click(on_button_clicked)\n",
    "\n",
    "    display(poi_type_select, update_button)"
   ]
  },
  {
   "cell_type": "code",
   "execution_count": 6,
   "metadata": {},
   "outputs": [
    {
     "name": "stdout",
     "output_type": "stream",
     "text": [
      "17\n"
     ]
    },
    {
     "data": {
      "application/vnd.jupyter.widget-view+json": {
       "model_id": "055446a3e7c34bd7a301afe640e376de",
       "version_major": 2,
       "version_minor": 0
      },
      "text/plain": [
       "SelectMultiple(description='POI Types', options={'81: SSL': 81, '109: ALL_CR_S': 109, '101: ALL_CR': 101, '117…"
      ]
     },
     "metadata": {},
     "output_type": "display_data"
    },
    {
     "data": {
      "application/vnd.jupyter.widget-view+json": {
       "model_id": "c84187a464a64c3988260e73d73fbc3f",
       "version_major": 2,
       "version_minor": 0
      },
      "text/plain": [
       "Button(description='Update', icon='check', style=ButtonStyle(), tooltip='Update the visualization')"
      ]
     },
     "metadata": {},
     "output_type": "display_data"
    },
    {
     "name": "stdout",
     "output_type": "stream",
     "text": [
      "tensor([[ 61.0810,  28.5310,  55.2150],\n",
      "        [ 63.4540,  95.3610,  52.5420],\n",
      "        [ 64.2100,  85.2550,  54.6300],\n",
      "        [ 64.7460,  93.1310,  31.5540],\n",
      "        [ 63.9710,  75.1100,  40.0050],\n",
      "        [ 72.1630,  96.2220,  52.5420],\n",
      "        [ 71.8860,  82.3260,  55.0350],\n",
      "        [ 73.2640,  88.2600,  32.1480],\n",
      "        [ 56.9180,  75.0340,  40.6080],\n",
      "        [ 53.7120,  95.1600,  52.3260],\n",
      "        [ 56.0090,  82.1350,  54.9720],\n",
      "        [ 54.9080,  89.2650,  32.5710],\n",
      "        [ 70.3740,  74.9670,  40.5450],\n",
      "        [ 63.9620,  68.8890,  61.8210],\n",
      "        [ 65.0330,  63.5200,  50.9940],\n",
      "        [ 62.0570,  32.7520,  59.1390],\n",
      "        [ 60.3440,  29.7760,  50.8860],\n",
      "        [ 52.5150,  77.3020,  62.3070],\n",
      "        [105.4300,  80.9190,  56.3760],\n",
      "        [ 49.5960,  75.0910,  48.6720],\n",
      "        [ 22.3210,  77.4740,  54.7560],\n",
      "        [ 75.5890,  78.8230,  61.6320],\n",
      "        [ 77.9920,  74.8610,  49.4910]]) tensor([ 81, 101, 102, 103, 104, 109, 110, 111, 112, 117, 118, 119, 120, 125,\n",
      "        127, 134, 136, 141, 142, 143, 144, 149, 151]) 8 WS-45\n",
      "Visualizing Subject WS-45, Vertebra 8, POIs (81, 109, 101, 117, 111, 103, 119, 110, 102, 118, 112, 104, 120, 149, 125, 141, 151, 127, 143, 134, 136, 142)\n",
      "POI(centroids={8: {81: (61.08100128173828, 28.5310001373291, 55.21500015258789), 101: (63.45399856567383, 95.36100006103516, 52.54199981689453), 102: (64.20999908447266, 85.2550048828125, 54.62999725341797), 103: (64.74600219726562, 93.13099670410156, 31.554000854492188), 104: (63.97100067138672, 75.11000061035156, 40.005001068115234), 109: (72.16299438476562, 96.22200012207031, 52.54199981689453), 110: (71.88600158691406, 82.32600402832031, 55.03499984741211), 111: (73.26399993896484, 88.25999450683594, 32.14799880981445), 112: (56.917999267578125, 75.03399658203125, 40.608001708984375), 117: (53.71200180053711, 95.16000366210938, 52.32600021362305), 118: (56.00899887084961, 82.13499450683594, 54.97200012207031), 119: (54.90800094604492, 89.26499938964844, 32.57099914550781), 120: (70.3740005493164, 74.96699523925781, 40.54499816894531), 125: (63.96200180053711, 68.88899993896484, 61.82099914550781), 127: (65.03300476074219, 63.52000045776367, 50.99399948120117), 134: (62.05699920654297, 32.75199890136719, 59.138999938964844), 136: (60.34400177001953, 29.7760009765625, 50.88600158691406), 141: (52.51499938964844, 77.302001953125, 62.30699920654297), 142: (105.43000030517578, 80.91899871826172, 56.375999450683594), 143: (49.59600067138672, 75.09100341796875, 48.672000885009766), 149: (75.58900451660156, 78.822998046875, 61.63199996948242), 151: (77.99200439453125, 74.86100006103516, 49.490997314453125)}}, orientation=('L', 'A', 'S'), zoom=(1.0, 1.0, 1.0), info={}, origin=None)\n",
      "\u001b[0m[ ] Image reoriented from ('L', 'A', 'S') to ('P', 'I', 'R')\u001b[0m\u001b[0m\n",
      "\u001b[0m[*] Centroids reoriented from ('L', 'A', 'S') to ('P', 'I', 'R')\u001b[0m\u001b[0m\n",
      "('P', 'I', 'R') ('P', 'I', 'R')\n"
     ]
    },
    {
     "name": "stderr",
     "output_type": "stream",
     "text": [
      "100%|██████████| 1/1 [00:00<00:00, 27.34it/s]\n"
     ]
    }
   ],
   "source": [
    "print(ds[466]['vertebra'])\n",
    "display_dd_pois(ds[103])"
   ]
  },
  {
   "cell_type": "code",
   "execution_count": 5,
   "metadata": {},
   "outputs": [],
   "source": [
    "class LandmarksRandAffine:\n",
    "    def __init__(\n",
    "            self,\n",
    "            prob,\n",
    "            rotate_range,\n",
    "            shear_range,\n",
    "            translate_range,\n",
    "            scale_range,\n",
    "            device = 'cpu'\n",
    "    ):\n",
    "        self.prob = prob\n",
    "        self.rotate_range = rotate_range\n",
    "        self.shear_range = shear_range\n",
    "        self.translate_range = translate_range\n",
    "        self.scale_range = scale_range\n",
    "\n",
    "        self.image_transform = RandAffine(\n",
    "            prob = prob,\n",
    "            rotate_range = rotate_range,\n",
    "            shear_range = shear_range,\n",
    "            translate_range = translate_range,\n",
    "            scale_range = scale_range,\n",
    "            mode='nearest',\n",
    "            padding_mode = 'zeros',\n",
    "            device = device\n",
    "        )\n",
    "\n",
    "    def __call__(self, dd):\n",
    "        volume = dd['input']\n",
    "        landmarks = dd['target']\n",
    "\n",
    "        #Apply MonAI's RandAffine to the volume\n",
    "        transformed_volume, affine_matrix = self.image_transform(volume)\n",
    "\n",
    "        #Convert landmarks to homogeneous coordinates\n",
    "        ones = torch.ones(landmarks.shape[0], 1, dtype=landmarks.dtype, device=landmarks.device)\n",
    "        homogeneous_landmarks = torch.cat([landmarks, ones], dim=1)\n",
    "\n",
    "        #Apply the affine transformation to the landmarks\n",
    "        transformed_landmarks = torch.mm(homogeneous_landmarks, torch.linalg.inv(torch.tensor(affine_matrix, dtype=torch.float).t()))[:, :3]\n",
    "\n",
    "        dd['input'] = transformed_volume\n",
    "        dd['target'] = transformed_landmarks\n",
    "\n",
    "        return dd\n",
    "    \n",
    "class LandMarksRandHorizontalFlip:\n",
    "    def __init__(self, prob, flip_pairs, device = 'cpu'):\n",
    "        self.prob = prob\n",
    "        self.flip_pairs = flip_pairs\n",
    "\n",
    "    def __call__(self, dd):\n",
    "        if torch.rand(1) < self.prob:\n",
    "            target_indices = dd['target_indices']\n",
    "\n",
    "            #Flip the volume horizontally, since the orientation is LAS (Left, Anterior, Superior), this means flipping along the L axis\n",
    "            dd['input'] = torch.flip(dd['input'], dims=[1])\n",
    "\n",
    "            #Flip the landmarks horizontally\n",
    "            dd['target'][:, 0] = dd['input'].shape[1] - dd['target'][:, 0]\n",
    "\n",
    "            #Reorder the landmarks according to the swap indices\n",
    "            indices_map = {k.item(): v for v, k in enumerate(target_indices)} \n",
    "            new_positions = [indices_map[self.flip_pairs[k.item()]] for k in target_indices]\n",
    "\n",
    "            dd['target'] = dd['target'][new_positions]\n",
    "            \n",
    "        return dd\n",
    "    \n",
    "class Compose:\n",
    "    def __init__(self, transforms):\n",
    "        self.transforms = transforms\n",
    "\n",
    "    def __call__(self, dd):\n",
    "        for transform in self.transforms:\n",
    "            dd = transform(dd)\n",
    "        return dd"
   ]
  },
  {
   "cell_type": "code",
   "execution_count": 6,
   "metadata": {},
   "outputs": [
    {
     "data": {
      "application/vnd.jupyter.widget-view+json": {
       "model_id": "1aa5a7b80e90415f96a287c8d18f1c4e",
       "version_major": 2,
       "version_minor": 0
      },
      "text/plain": [
       "SelectMultiple(description='POI Types', options={'81: SSL': 81, '109: ALL_CR_S': 109, '101: ALL_CR': 101, '117…"
      ]
     },
     "metadata": {},
     "output_type": "display_data"
    },
    {
     "data": {
      "application/vnd.jupyter.widget-view+json": {
       "model_id": "ffc8a87db6f540208788c579f9013643",
       "version_major": 2,
       "version_minor": 0
      },
      "text/plain": [
       "Button(description='Update', icon='check', style=ButtonStyle(), tooltip='Update the visualization')"
      ]
     },
     "metadata": {},
     "output_type": "display_data"
    },
    {
     "name": "stdout",
     "output_type": "stream",
     "text": [
      "Visualizing Subject WS-06, Vertebra 8, POIs (81, 109, 101, 117, 111, 103, 119, 110, 102, 118, 112, 104, 120, 149, 125, 141, 151, 127, 143, 134, 136, 142, 144)\n",
      "POI(centroids={8: {81: (111.60933685302734, 63.394046783447266, 91.57066345214844), 101: (44.054168701171875, 69.55589294433594, 54.38749694824219), 102: (61.600303649902344, 65.45057678222656, 60.80192565917969), 103: (36.9173583984375, 78.61259460449219, 59.467750549316406), 104: (58.354705810546875, 76.40855407714844, 69.40667724609375), 109: (40.258697509765625, 63.855281829833984, 58.468299865722656), 110: (57.27146911621094, 59.513954162597656, 64.8820571899414), 111: (33.5614013671875, 72.78521728515625, 63.892601013183594), 112: (53.832977294921875, 71.10198974609375, 71.9076919555664), 117: (52.62055969238281, 74.59538269042969, 53.145729064941406), 118: (71.84156799316406, 69.90131378173828, 60.54643249511719), 119: (44.85203552246094, 83.4410400390625, 58.1368408203125), 120: (65.68084716796875, 80.63076782226562, 68.22124481201172), 125: (81.40072631835938, 62.35350799560547, 70.20269775390625), 127: (77.84330749511719, 69.1018295288086, 74.11454010009766), 134: (108.0481185913086, 62.559566497802734, 87.61688232421875), 136: (105.5680160522461, 67.51899719238281, 90.25840759277344), 141: (83.25227355957031, 67.98435974121094, 64.25674438476562), 142: (37.81537628173828, 38.479736328125, 73.78495788574219), 143: (80.47880554199219, 77.86184692382812, 65.85869598388672), 144: (104.677001953125, 85.53630828857422, 52.70730972290039), 149: (67.302001953125, 56.882266998291016, 69.13660430908203), 151: (57.9991455078125, 61.13172149658203, 73.800537109375)}}, orientation=('L', 'A', 'S'), zoom=(1.0, 1.0, 1.0), info={}, origin=None)\n",
      "\u001b[0m[ ] Image reoriented from ('L', 'A', 'S') to ('P', 'I', 'R')\u001b[0m\u001b[0m\n",
      "\u001b[0m[*] Centroids reoriented from ('L', 'A', 'S') to ('P', 'I', 'R')\u001b[0m\u001b[0m\n",
      "('P', 'I', 'R') ('P', 'I', 'R')\n"
     ]
    },
    {
     "name": "stderr",
     "output_type": "stream",
     "text": [
      "100%|██████████| 1/1 [00:00<00:00, 40.23it/s]\n"
     ]
    }
   ],
   "source": [
    "affine_transform = LandmarksRandAffine(\n",
    "    prob = 1,\n",
    "    rotate_range = ([-10, 10], [-10, 10], [-10, 10]),\n",
    "    shear_range = ([-0.1, -0.1], [0.1, 0.1], [0.1, 0.1]),\n",
    "    translate_range = ([-10, 10], [-10, 10], [-10, 10]),\n",
    "    scale_range = ([-0.3, -0.3], [0.1, 0.1], [0.5, 0.5]),\n",
    "    device = 'cpu'\n",
    ")\n",
    "\n",
    "flip_transform = LandMarksRandHorizontalFlip(\n",
    "    prob = 1,\n",
    "    flip_pairs = {\n",
    "                # These are the middle points, i.e. the ones that are not flipped\n",
    "                81 : 81,\n",
    "                101: 101,\n",
    "                103: 103,\n",
    "                102: 102,\n",
    "                104: 104,\n",
    "                125: 125,\n",
    "                127: 127,\n",
    "                134: 134,\n",
    "                136: 136,\n",
    "                \n",
    "                # Flipped left to right\n",
    "                109: 117,\n",
    "                111: 119,\n",
    "                110: 118,\n",
    "                112: 120,\n",
    "                149: 141,\n",
    "                151: 143,\n",
    "                142: 144,\n",
    "\n",
    "                # Flipped right to left\n",
    "                117: 109,\n",
    "                119: 111,\n",
    "                118: 110,\n",
    "                120: 112,\n",
    "                141: 149,\n",
    "                143: 151,\n",
    "                144: 142,\n",
    "\n",
    "                #Center of mass, does not need to be flipped\n",
    "                41: 41,\n",
    "                42: 42,\n",
    "                43: 43,\n",
    "                44: 44,\n",
    "                45: 45,\n",
    "                46: 46,\n",
    "                47: 47,\n",
    "                48: 48,\n",
    "                49: 49,\n",
    "                50: 50,\n",
    "\n",
    "                0:0\n",
    "            },\n",
    ")\n",
    "\n",
    "transforms = Compose([\n",
    "    affine_transform,\n",
    "    flip_transform\n",
    "])\n",
    "\n",
    "# Get the volume and landmarks\n",
    "dd = ds[7]\n",
    "\n",
    "# Apply the affine transformation\n",
    "dd = transforms(dd)\n",
    "\n",
    "# Get the transformed landmarks\n",
    "transformed_landmarks = dd['target']\n",
    "transformed_volume = dd['input']\n",
    "\n",
    "transformed_vert_msk_nii = vertseg_to_vert_msk_nii(dd['vertebra'], transformed_volume.squeeze(0))\n",
    "\n",
    "# Display the transformed volume and landmarks\n",
    "display_pois(\n",
    "    seg_vert = transformed_vert_msk_nii,\n",
    "    target = transformed_landmarks,\n",
    "    target_indices = dd['target_indices'],\n",
    "    vertebra = dd['vertebra'],\n",
    "    subject = dd['subject']\n",
    ")"
   ]
  },
  {
   "cell_type": "code",
   "execution_count": null,
   "metadata": {},
   "outputs": [
    {
     "data": {
      "text/plain": [
       "metatensor([[[0., 0., 0.,  ..., 0., 0., 0.],\n",
       "         [0., 0., 0.,  ..., 0., 0., 0.],\n",
       "         [0., 0., 0.,  ..., 0., 0., 0.],\n",
       "         ...,\n",
       "         [0., 0., 0.,  ..., 0., 0., 0.],\n",
       "         [0., 0., 0.,  ..., 0., 0., 0.],\n",
       "         [0., 0., 0.,  ..., 0., 0., 0.]],\n",
       "\n",
       "        [[0., 0., 0.,  ..., 0., 0., 0.],\n",
       "         [0., 0., 0.,  ..., 0., 0., 0.],\n",
       "         [0., 0., 0.,  ..., 0., 0., 0.],\n",
       "         ...,\n",
       "         [0., 0., 0.,  ..., 0., 0., 0.],\n",
       "         [0., 0., 0.,  ..., 0., 0., 0.],\n",
       "         [0., 0., 0.,  ..., 0., 0., 0.]],\n",
       "\n",
       "        [[0., 0., 0.,  ..., 0., 0., 0.],\n",
       "         [0., 0., 0.,  ..., 0., 0., 0.],\n",
       "         [0., 0., 0.,  ..., 0., 0., 0.],\n",
       "         ...,\n",
       "         [0., 0., 0.,  ..., 0., 0., 0.],\n",
       "         [0., 0., 0.,  ..., 0., 0., 0.],\n",
       "         [0., 0., 0.,  ..., 0., 0., 0.]],\n",
       "\n",
       "        ...,\n",
       "\n",
       "        [[0., 0., 0.,  ..., 0., 0., 0.],\n",
       "         [0., 0., 0.,  ..., 0., 0., 0.],\n",
       "         [0., 0., 0.,  ..., 0., 0., 0.],\n",
       "         ...,\n",
       "         [0., 0., 0.,  ..., 0., 0., 0.],\n",
       "         [0., 0., 0.,  ..., 0., 0., 0.],\n",
       "         [0., 0., 0.,  ..., 0., 0., 0.]],\n",
       "\n",
       "        [[0., 0., 0.,  ..., 0., 0., 0.],\n",
       "         [0., 0., 0.,  ..., 0., 0., 0.],\n",
       "         [0., 0., 0.,  ..., 0., 0., 0.],\n",
       "         ...,\n",
       "         [0., 0., 0.,  ..., 0., 0., 0.],\n",
       "         [0., 0., 0.,  ..., 0., 0., 0.],\n",
       "         [0., 0., 0.,  ..., 0., 0., 0.]],\n",
       "\n",
       "        [[0., 0., 0.,  ..., 0., 0., 0.],\n",
       "         [0., 0., 0.,  ..., 0., 0., 0.],\n",
       "         [0., 0., 0.,  ..., 0., 0., 0.],\n",
       "         ...,\n",
       "         [0., 0., 0.,  ..., 0., 0., 0.],\n",
       "         [0., 0., 0.,  ..., 0., 0., 0.],\n",
       "         [0., 0., 0.,  ..., 0., 0., 0.]]])"
      ]
     },
     "execution_count": 7,
     "metadata": {},
     "output_type": "execute_result"
    }
   ],
   "source": [
    "transformed_volume[0]"
   ]
  }
 ],
 "metadata": {
  "kernelspec": {
   "display_name": "thesis",
   "language": "python",
   "name": "python3"
  },
  "language_info": {
   "codemirror_mode": {
    "name": "ipython",
    "version": 3
   },
   "file_extension": ".py",
   "mimetype": "text/x-python",
   "name": "python",
   "nbconvert_exporter": "python",
   "pygments_lexer": "ipython3",
   "version": "3.10.13"
  }
 },
 "nbformat": 4,
 "nbformat_minor": 2
}
