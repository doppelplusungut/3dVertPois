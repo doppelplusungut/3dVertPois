{
 "cells": [
  {
   "cell_type": "code",
   "execution_count": 17,
   "metadata": {},
   "outputs": [],
   "source": [
    "from BIDS import BIDS_Global_info"
   ]
  },
  {
   "cell_type": "code",
   "execution_count": 18,
   "metadata": {},
   "outputs": [
    {
     "name": "stdout",
     "output_type": "stream",
     "text": [
      "[!] seq is not in list of legal keys. This name 'sub-WS-30_ses-20221024_seq-1_seg-vert_msk.nii.gz' is invalid. Legal keys are: ['sub', 'ses', 'sequ', 'acq', 'task', 'chunk', 'hemi', 'sample', 'ce', 'trc', 'stain', 'rec', 'proc', 'mod', 'recording', 'res', 'dir', 'echo', 'flip', 'inv', 'mt', 'part', 'space', 'seg', 'source', 'ovl', 'run', 'label', 'split', 'den', 'desc']. \n",
      "For use see https://bids-specification.readthedocs.io/en/stable/99-appendices/09-entities.html\n",
      "[!] ref is not in list of legal keys. This name 'sub-WS-30_ses-20221024_seq-1_seg-poi_source-registered_ref-WS-29_poi.nii.gz' is invalid. Legal keys are: ['sub', 'ses', 'sequ', 'acq', 'task', 'chunk', 'hemi', 'sample', 'ce', 'trc', 'stain', 'rec', 'proc', 'mod', 'recording', 'res', 'dir', 'echo', 'flip', 'inv', 'mt', 'part', 'space', 'seg', 'source', 'ovl', 'run', 'label', 'split', 'den', 'desc', 'seq']. \n",
      "For use see https://bids-specification.readthedocs.io/en/stable/99-appendices/09-entities.html\n",
      "[!] snapshot is not in list of legal keys. This name 'sub-WS-30_ses-20221024_seq-1_seg-poi_source-registered_ref-WS-29_snapshot-poi_snp.png' is invalid. Legal keys are: ['sub', 'ses', 'sequ', 'acq', 'task', 'chunk', 'hemi', 'sample', 'ce', 'trc', 'stain', 'rec', 'proc', 'mod', 'recording', 'res', 'dir', 'echo', 'flip', 'inv', 'mt', 'part', 'space', 'seg', 'source', 'ovl', 'run', 'label', 'split', 'den', 'desc', 'seq', 'ref']. \n",
      "For use see https://bids-specification.readthedocs.io/en/stable/99-appendices/09-entities.html\n"
     ]
    }
   ],
   "source": [
    "bgi = BIDS_Global_info(\n",
    "    datasets=[\"/home/daniel/MEGA downloads/dataset-gruber\"],\n",
    "    parents=[\"derivatives_seg_new\"],\n",
    ")"
   ]
  },
  {
   "cell_type": "code",
   "execution_count": 19,
   "metadata": {},
   "outputs": [
    {
     "name": "stdout",
     "output_type": "stream",
     "text": [
      "WS-30 <BIDS.bids_files.Subject_Container object at 0x73aab9373130>\n"
     ]
    }
   ],
   "source": [
    "for sub, container in bgi.enumerate_subjects():\n",
    "    print(sub, container)\n",
    "    break"
   ]
  },
  {
   "cell_type": "code",
   "execution_count": 31,
   "metadata": {},
   "outputs": [],
   "source": [
    "def get_subreg(container):\n",
    "    subreg_query = container.new_query(flatten=True)\n",
    "    subreg_query.filter_format(\"msk\")\n",
    "    subreg_query.filter_filetype(\"nii.gz\")  # only nifti files\n",
    "    subreg_query.filter(\"seg\", \"subreg\")\n",
    "    subreg_candidate = subreg_query.candidates[0]\n",
    "    return str(subreg_candidate.file[\"nii.gz\"])\n",
    "\n",
    "\n",
    "def get_vertseg(container):\n",
    "    vertseg_query = container.new_query(flatten=True)\n",
    "    vertseg_query.filter_format(\"msk\")\n",
    "    vertseg_query.filter_filetype(\"nii.gz\")  # only nifti files\n",
    "    vertseg_query.filter(\"seg\", \"vert\")\n",
    "    vertseg_candidate = vertseg_query.candidates[0]\n",
    "    return str(vertseg_candidate.file[\"nii.gz\"])"
   ]
  },
  {
   "cell_type": "code",
   "execution_count": 32,
   "metadata": {},
   "outputs": [
    {
     "data": {
      "text/plain": [
       "('/home/daniel/MEGA downloads/dataset-gruber/derivatives_seg_new/WS-30/ses-20221024/sub-WS-30_ses-20221024_seq-1_seg-subreg_msk.nii.gz',\n",
       " '/home/daniel/MEGA downloads/dataset-gruber/derivatives_seg_new/WS-30/ses-20221024/sub-WS-30_ses-20221024_seq-1_seg-vert_msk.nii.gz')"
      ]
     },
     "execution_count": 32,
     "metadata": {},
     "output_type": "execute_result"
    }
   ],
   "source": [
    "get_subreg(container), get_vertseg(container)"
   ]
  }
 ],
 "metadata": {
  "kernelspec": {
   "display_name": "poi-prediction",
   "language": "python",
   "name": "python3"
  },
  "language_info": {
   "codemirror_mode": {
    "name": "ipython",
    "version": 3
   },
   "file_extension": ".py",
   "mimetype": "text/x-python",
   "name": "python",
   "nbconvert_exporter": "python",
   "pygments_lexer": "ipython3",
   "version": "3.10.14"
  }
 },
 "nbformat": 4,
 "nbformat_minor": 2
}
