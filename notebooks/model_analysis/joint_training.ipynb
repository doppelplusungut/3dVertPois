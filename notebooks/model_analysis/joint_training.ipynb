{
 "cells": [
  {
   "cell_type": "code",
   "execution_count": 1,
   "metadata": {
    "metadata": {}
   },
   "outputs": [],
   "source": [
    "import sys\n",
    "sys.path.append('/home/daniel/Documents/Uni/MT/poi-prediction/')\n",
    "import pandas as pd\n",
    "from src.eval import create_prediction_df, compute_overall_metrics, create_prediction_poi_files"
   ]
  },
  {
   "cell_type": "code",
   "execution_count": 2,
   "metadata": {
    "metadata": {}
   },
   "outputs": [],
   "source": [
    "dm_path = '/home/daniel/Documents/Uni/MT/experiment_logs/joint/no-surface/gr_sagittal_im_all/freeze/SA-DenseNet-PatchTransformer/version_0/data_module_params.json'\n",
    "model_path = '/home/daniel/Documents/Uni/MT/experiment_logs/joint/no-surface/gr_sagittal_im_all/freeze/SA-DenseNet-PatchTransformer/version_0/checkpoints/sad-pt-epoch=21-fine_mean_distance_val=27.01.ckpt'\n",
    "val_df = create_prediction_df(dm_path, model_path, joint=True, split = 'val')\n",
    "test_df = create_prediction_df(dm_path, model_path, joint=True, split = 'test')"
   ]
  },
  {
   "cell_type": "code",
   "execution_count": 3,
   "metadata": {
    "metadata": {}
   },
   "outputs": [],
   "source": [
    "#Drop the rows where loss_mask is false\n",
    "val_df = val_df[val_df.loss_mask]\n",
    "test_df = test_df[test_df.loss_mask]"
   ]
  },
  {
   "cell_type": "code",
   "execution_count": 5,
   "metadata": {},
   "outputs": [],
   "source": [
    "poi_paths_val = create_prediction_poi_files(dm_path, model_path, poi_file_ending='test_poi.json', save_path='/home/daniel/prediction_files/', split='val', return_paths = True, project=False, joint = True)\n",
    "poi_paths_test = create_prediction_poi_files(dm_path, model_path, poi_file_ending='test_poi.json', save_path='/home/daniel/prediction_files/', split='test', return_paths = True, project=False, joint = True)"
   ]
  },
  {
   "cell_type": "code",
   "execution_count": 6,
   "metadata": {
    "metadata": {}
   },
   "outputs": [],
   "source": [
    "#Drop all the rows where loss_mask is False\n",
    "val_df_implants = val_df[val_df['poi_idx'].isin([90,91,94,95])]\n",
    "test_df_implants = test_df[test_df['poi_idx'].isin([90,91,94,95])]\n",
    "\n",
    "val_df_gruber = val_df[~val_df['poi_idx'].isin([90,91,94,95])]\n",
    "test_df_gruber = test_df[~test_df['poi_idx'].isin([90,91,94,95])]"
   ]
  },
  {
   "cell_type": "code",
   "execution_count": 7,
   "metadata": {
    "metadata": {}
   },
   "outputs": [
    {
     "name": "stdout",
     "output_type": "stream",
     "text": [
      "                    Mean Error  Median Error        MSE  Accuracy  Max Error  \\\n",
      "coarse_error          3.031693      2.857999  11.444552  0.301136   7.859975   \n",
      "refined_error         2.780748      2.576405  10.070773  0.386364   7.986739   \n",
      "coarse_proj_error     2.752869      2.558195   9.539246  0.352273   9.292840   \n",
      "refined_proj_error    2.637073      2.402610   9.030883  0.403409   9.292840   \n",
      "coarse_error          3.447978      3.198934  14.589814  0.188776   9.030368   \n",
      "refined_error         3.228405      2.919386  13.309847  0.275510   8.724882   \n",
      "coarse_proj_error     3.054769      2.766286  12.095086  0.295918   9.473424   \n",
      "refined_proj_error    3.057624      2.663897  12.172393  0.306122   8.226042   \n",
      "\n",
      "                   Split  \n",
      "coarse_error         Val  \n",
      "refined_error        Val  \n",
      "coarse_proj_error    Val  \n",
      "refined_proj_error   Val  \n",
      "coarse_error        Test  \n",
      "refined_error       Test  \n",
      "coarse_proj_error   Test  \n",
      "refined_proj_error  Test  \n"
     ]
    }
   ],
   "source": [
    "#Add a column split to the dataframes then concatenate them\n",
    "val_metrics_implants = compute_overall_metrics(val_df_implants)\n",
    "val_metrics_implants['Split'] = 'Val'\n",
    "test_metrics_implants = compute_overall_metrics(test_df_implants)\n",
    "test_metrics_implants['Split'] = 'Test'\n",
    "\n",
    "metrics_implants = pd.concat([val_metrics_implants, test_metrics_implants])\n",
    "\n",
    "val_metrics_gruber = compute_overall_metrics(val_df_gruber)\n",
    "val_metrics_gruber['Split'] = 'Val'\n",
    "test_metrics_gruber = compute_overall_metrics(test_df_gruber)\n",
    "test_metrics_gruber['Split'] = 'Test'\n",
    "\n",
    "metrics_gruber = pd.concat([val_metrics_gruber, test_metrics_gruber])\n",
    "print(metrics_gruber)"
   ]
  },
  {
   "cell_type": "code",
   "execution_count": 6,
   "metadata": {
    "metadata": {}
   },
   "outputs": [],
   "source": [
    "#Make the index column a regular column called 'Prediction Type'\n",
    "metrics_implants.reset_index(inplace=True)\n",
    "metrics_implants.rename(columns={'index': 'Prediction Type'}, inplace=True)\n",
    "#Rename the entries in the 'Prediction Type' column coarse_error -> Coarse, refined_error -> Fine, coarse_proj_error -> Coarse with projection, refined_proj_error -> Fine with projection\n",
    "metrics_implants['Prediction Type'] = metrics_implants['Prediction Type'].replace({'coarse_error': 'Coarse', 'refined_error': 'Fine', 'coarse_proj_error': 'Coarse with projection', 'refined_proj_error': 'Fine with projection'})\n",
    "\n",
    "# Reorder the columns for pretty printing\n",
    "metrics = metrics_implants[['Split', 'Prediction Type', 'Mean Error', 'Median Error', 'MSE', 'Accuracy', 'Max Error']]"
   ]
  },
  {
   "cell_type": "code",
   "execution_count": 7,
   "metadata": {
    "metadata": {}
   },
   "outputs": [
    {
     "name": "stdout",
     "output_type": "stream",
     "text": [
      "\\begin{tabular}{llrrrrr}\n",
      "\\toprule\n",
      "Split & Prediction Type & Mean Error & Median Error & MSE & Accuracy & Max Error \\\\\n",
      "\\midrule\n",
      "Val & Coarse & 5.88 & 5.47 & 46.11 & 0.05 & 13.50 \\\\\n",
      "Val & Fine & 5.29 & 4.29 & 38.19 & 0.10 & 12.89 \\\\\n",
      "Val & Coarse with projection & 6.62 & 5.98 & 53.30 & 0.00 & 13.22 \\\\\n",
      "Val & Fine with projection & 5.96 & 5.36 & 43.89 & 0.00 & 12.41 \\\\\n",
      "Test & Coarse & 6.70 & 6.36 & 56.39 & 0.00 & 15.80 \\\\\n",
      "Test & Fine & 6.49 & 5.98 & 53.01 & 0.00 & 16.51 \\\\\n",
      "Test & Coarse with projection & 6.41 & 6.32 & 47.53 & 0.05 & 12.20 \\\\\n",
      "Test & Fine with projection & 6.65 & 6.96 & 50.32 & 0.05 & 12.20 \\\\\n",
      "\\bottomrule\n",
      "\\end{tabular}\n",
      "\n"
     ]
    }
   ],
   "source": [
    "print(metrics.to_latex(index = False, float_format = '%.2f'))"
   ]
  },
  {
   "cell_type": "code",
   "execution_count": 16,
   "metadata": {},
   "outputs": [
    {
     "name": "stdout",
     "output_type": "stream",
     "text": [
      "14.265836394505934 6.838617415880337\n",
      "20.475023203122227 9.79160597181352\n",
      "\\begin{tabular}{lrrrrrl}\n",
      "\\toprule\n",
      " & Mean Error & Median Error & MSE & Accuracy & Max Error & Split \\\\\n",
      "\\midrule\n",
      "coarse_error & 3.322457 & 2.949973 & 14.982346 & 0.275510 & 13.501968 & Val \\\\\n",
      "refined_error & 3.036737 & 2.787781 & 12.939702 & 0.357143 & 12.893449 & Val \\\\\n",
      "coarse_proj_error & 3.147389 & 2.816430 & 14.004633 & 0.316327 & 13.224525 & Val \\\\\n",
      "refined_proj_error & 2.976233 & 2.784793 & 12.587449 & 0.362245 & 12.408307 & Val \\\\\n",
      "coarse_error & 3.749224 & 3.349405 & 18.460030 & 0.171296 & 15.803191 & Test \\\\\n",
      "refined_error & 3.530542 & 3.248445 & 16.985977 & 0.250000 & 16.509827 & Test \\\\\n",
      "coarse_proj_error & 3.365700 & 2.898294 & 15.375907 & 0.273148 & 12.198874 & Test \\\\\n",
      "refined_proj_error & 3.390417 & 2.858277 & 15.704583 & 0.282407 & 12.198874 & Test \\\\\n",
      "\\bottomrule\n",
      "\\end{tabular}\n",
      "\n"
     ]
    }
   ],
   "source": [
    "from BIDS import POI\n",
    "import numpy as np\n",
    "\n",
    "def get_angles(poi_paths, k):\n",
    "    sub, vert = k\n",
    "    poi_pred = POI.load(poi_paths[sub, vert]['pred'])\n",
    "    poi_gt = POI.load(poi_paths[sub, vert]['gt'])\n",
    "\n",
    "    s94_90_pred = np.array(poi_pred[vert, 94]) - np.array(poi_pred[vert, 90])\n",
    "    s94_90_gt = np.array(poi_gt[vert, 94]) - np.array(poi_gt[vert, 90])\n",
    "\n",
    "    s_95_91_pred = np.array(poi_pred[vert, 95]) - np.array(poi_pred[vert, 91])\n",
    "    s_95_91_gt = np.array(poi_gt[vert, 95]) - np.array(poi_gt[vert, 91])\n",
    "\n",
    "    theta94_90 = np.arccos(np.dot(s94_90_pred, s94_90_gt) / (np.linalg.norm(s94_90_pred) * np.linalg.norm(s94_90_gt))) * 180 / np.pi\n",
    "    theta95_91 = np.arccos(np.dot(s_95_91_pred, s_95_91_gt) / (np.linalg.norm(s_95_91_pred) * np.linalg.norm(s_95_91_gt))) * 180 / np.pi\n",
    "\n",
    "    return (theta94_90, theta95_91)\n",
    "\n",
    "all_angles_val = []\n",
    "for k in poi_paths_val.keys():\n",
    "    if k[0].startswith('W'):\n",
    "        continue\n",
    "    for i in range(3):\n",
    "        all_angles_val.append(get_angles(poi_paths_val, k))\n",
    "\n",
    "all_angles = np.array(all_angles_val)\n",
    "print(all_angles.mean(), all_angles.std())\n",
    "\n",
    "all_angles_test = []\n",
    "for k in poi_paths_test.keys():\n",
    "    #skip if k[0] starts with 'W'\n",
    "    if k[0].startswith('W'):\n",
    "        continue\n",
    "    for i in range(3):\n",
    "        all_angles_test.append(get_angles(poi_paths_test, k))\n",
    "\n",
    "all_angles = np.array(all_angles_test)\n",
    "print(all_angles.mean(), all_angles.std())\n",
    "\n",
    "#Add a column split to the dataframes then concatenate them\n",
    "val_metrics = compute_overall_metrics(val_df)\n",
    "val_metrics['Split'] = 'Val'\n",
    "test_metrics = compute_overall_metrics(test_df)\n",
    "test_metrics['Split'] = 'Test'\n",
    "\n",
    "metrics = pd.concat([val_metrics, test_metrics])\n",
    "print(metrics.to_latex())"
   ]
  }
 ],
 "metadata": {
  "kernelspec": {
   "display_name": "thesis",
   "language": "python",
   "name": "python3"
  },
  "language_info": {
   "codemirror_mode": {
    "name": "ipython",
    "version": 3
   },
   "file_extension": ".py",
   "mimetype": "text/x-python",
   "name": "python",
   "nbconvert_exporter": "python",
   "pygments_lexer": "ipython3",
   "version": "3.10.13"
  }
 },
 "nbformat": 4,
 "nbformat_minor": 2
}
