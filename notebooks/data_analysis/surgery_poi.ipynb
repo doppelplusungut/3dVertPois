{
 "cells": [
  {
   "cell_type": "code",
   "execution_count": 1,
   "metadata": {},
   "outputs": [],
   "source": [
    "from BIDS import BIDS_Global_info, POI, NII\n",
    "import numpy as np\n",
    "from BIDS.POI_plotter import visualize_pois\n",
    "from scipy.ndimage import binary_erosion\n",
    "import pandas as pd"
   ]
  },
  {
   "cell_type": "code",
   "execution_count": 2,
   "metadata": {},
   "outputs": [
    {
     "name": "stdout",
     "output_type": "stream",
     "text": [
      "[!] seq is not in list of legal keys. This name 'sub-005_ses-ANONH1JI2F1R6_seq-204_ct.nii.gz' is invalid. Legal keys are: ['sub', 'ses', 'sequ', 'acq', 'task', 'chunk', 'hemi', 'sample', 'ce', 'trc', 'stain', 'rec', 'proc', 'mod', 'recording', 'res', 'dir', 'echo', 'flip', 'inv', 'mt', 'part', 'space', 'seg', 'source', 'ovl', 'run', 'label', 'split', 'den', 'desc', 's', 'e', 'q']. \n",
      "For use see https://bids-specification.readthedocs.io/en/stable/99-appendices/09-entities.html\n"
     ]
    }
   ],
   "source": [
    "bids_surgery_poi = BIDS_Global_info(['/home/daniel/Data/Implants/dataset-implants'], additional_key='seq')"
   ]
  },
  {
   "cell_type": "code",
   "execution_count": 3,
   "metadata": {},
   "outputs": [],
   "source": [
    "def get_poi(container) -> POI:\n",
    "    poi_query = container.new_query(flatten=True)\n",
    "    poi_query.filter_format('poi')\n",
    "    poi_query.filter('desc', 'local')\n",
    "    poi_candidate = poi_query.candidates[0]\n",
    "    \n",
    "    poi = poi_candidate.open_ctd()\n",
    "    return poi\n",
    "\n",
    "def get_ct(container):\n",
    "    ct_query = container.new_query(flatten=True)\n",
    "    ct_query.filter_format('ct')\n",
    "    ct_query.filter_filetype('nii.gz') # only nifti files\n",
    "    ct_candidate = ct_query.candidates[0]\n",
    "\n",
    "    ct = ct_candidate.open_nii()\n",
    "    return ct\n",
    "\n",
    "def get_subreg(container):\n",
    "    subreg_query = container.new_query(flatten=True)\n",
    "    subreg_query.filter_format('msk')\n",
    "    subreg_query.filter_filetype('nii.gz') # only nifti files\n",
    "    subreg_query.filter('seg', 'subreg')\n",
    "    subreg_candidate = subreg_query.candidates[0]\n",
    "    \n",
    "    subreg = subreg_candidate.open_nii()\n",
    "    return subreg\n",
    "\n",
    "def get_vertseg(container):\n",
    "    vertseg_query = container.new_query(flatten=True)\n",
    "    vertseg_query.filter_format('msk')\n",
    "    vertseg_query.filter_filetype('nii.gz') # only nifti files\n",
    "    vertseg_query.filter('seg', 'vert')\n",
    "    vertseg_candidate = vertseg_query.candidates[0]\n",
    "\n",
    "    vertseg = vertseg_candidate.open_nii()\n",
    "    return vertseg\n",
    "\n",
    "def get_files(container):\n",
    "    return get_poi(container), get_ct(container), get_subreg(container), get_vertseg(container)"
   ]
  },
  {
   "cell_type": "code",
   "execution_count": 4,
   "metadata": {},
   "outputs": [],
   "source": [
    "def get_bounding_box(mask, vert, margin=5):\n",
    "        \"\"\"\n",
    "        Get the bounding box of a given vertebra in a mask.\n",
    "\n",
    "        Args:\n",
    "            mask (numpy.ndarray): The mask to search for the vertex.\n",
    "            vert (int): The vertebra to search for in the mask.\n",
    "            margin (int, optional): The margin to add to the bounding box. Defaults to 2.\n",
    "\n",
    "        Returns:\n",
    "            tuple: A tuple containing the minimum and maximum values for the x, y, and z axes of the bounding box.\n",
    "        \"\"\"\n",
    "        indices = np.where(mask == vert)\n",
    "        x_min = np.min(indices[0]) - margin\n",
    "        x_max = np.max(indices[0]) + margin\n",
    "        y_min = np.min(indices[1]) - margin\n",
    "        y_max = np.max(indices[1]) + margin\n",
    "        z_min = np.min(indices[2]) - margin\n",
    "        z_max = np.max(indices[2]) + margin\n",
    "\n",
    "        # Make sure the bounding box is within the mask\n",
    "        x_min = max(0, x_min)\n",
    "        x_max = min(mask.shape[0], x_max)\n",
    "        y_min = max(0, y_min)\n",
    "        y_max = min(mask.shape[1], y_max)\n",
    "        z_min = max(0, z_min)\n",
    "        z_max = min(mask.shape[2], z_max)\n",
    "\n",
    "        return x_min, x_max, y_min, y_max, z_min, z_max"
   ]
  },
  {
   "cell_type": "code",
   "execution_count": 5,
   "metadata": {},
   "outputs": [],
   "source": [
    "def make_cutouts(subject_name: str, poi: POI, ct: NII, subreg: NII, vertseg: NII) -> list[dict]:\n",
    "    cutouts = []\n",
    "    vertebrae = set([key[0] for key in poi.keys()])\n",
    "    vertseg_arr = vertseg.get_array()\n",
    "    for vert in vertebrae:\n",
    "        x_min, x_max, y_min, y_max, z_min, z_max = get_bounding_box(vertseg_arr, vert)\n",
    "        cutouts.append(\n",
    "            {   \n",
    "                'subject': subject_name,\n",
    "                'vertebra': vert,\n",
    "                'ct_nii': ct.apply_crop_slice(ex_slice = (slice(x_min, x_max), slice(y_min, y_max), slice(z_min, z_max))),\n",
    "                'subreg_nii': subreg.apply_crop_slice(ex_slice = (slice(x_min, x_max), slice(y_min, y_max), slice(z_min, z_max))),\n",
    "                'vertseg_nii': vertseg.apply_crop_slice(ex_slice = (slice(x_min, x_max), slice(y_min, y_max), slice(z_min, z_max))),\n",
    "                'poi': poi.crop_centroids(o_shift = (slice(x_min, x_max), slice(y_min, y_max), slice(z_min, z_max)))\n",
    "            }\n",
    "        )\n",
    "    return cutouts"
   ]
  },
  {
   "cell_type": "code",
   "execution_count": 6,
   "metadata": {},
   "outputs": [
    {
     "name": "stdout",
     "output_type": "stream",
     "text": [
      "(47.8593738, -199.9874866, -86.0299643)\n",
      "(56.0624989, -214.8312368, -102.0299488)\n",
      "(59.968749, -224.987487, -118.0299333)\n",
      "(67.7812491, -234.7531122, -140.8299112)\n",
      "(74.0312493, -241.7843623, -168.8298841)\n",
      "(74.8124993, -248.8156124, -192.8298609)\n",
      "(72.8593742, -249.9874875, -214.0298403)\n",
      "(72.0781242, -250.7687375, -232.0298229)\n",
      "(63.8749991, -250.7687375, -252.0298035)\n",
      "(56.0624989, -248.0343624, -288.0297687)\n",
      "(65.0468741, -246.8624874, -320.8297369)\n",
      "(65.8281241, -248.0343624, -334.0297241)\n",
      "(39.9999991, -237.6156303, -195.9589257)\n",
      "(39.2187491, -229.4125052, -227.958437)\n",
      "(41.1718742, -222.381255, -260.757936)\n",
      "(31.015624, -218.475005, -287.9575206)\n",
      "(27.1093739, -216.5218799, -314.7571112)\n",
      "(50.6093745, -271.2499996, 359.5)\n",
      "(49.6835933, -277.113281, 334.5)\n",
      "(47.523437, -281.1249998, 310.5)\n",
      "(45.6718744, -282.3593748, 285.5)\n",
      "(39.4999993, -279.2734373, 263.5)\n",
      "(32.402343, -266.3124995, 237.5)\n",
      "(29.6249992, -257.3632806, 214.5)\n",
      "(38.5742181, -249.339843, 188.5)\n",
      "(41.6601556, -244.0937492, 163.5)\n",
      "(40.4257806, -240.0820304, 140.5)\n",
      "(23.8281237, -235.2781366, -127.7401458)\n",
      "(23.0468737, -237.2312617, -161.740275)\n",
      "(26.9531237, -234.1062616, -193.7403966)\n",
      "(33.9843739, -225.1218865, -222.540506)\n",
      "(39.0624989, -223.1687614, -244.5405896)\n",
      "(44.921874, -220.4343864, -265.7406702)\n",
      "(20.9206235, -230.4523313, -87.5499256)\n",
      "(31.8776548, -227.46405, -115.5498985)\n",
      "(34.8659361, -222.4835813, -144.3498706)\n",
      "(37.8542173, -218.4992062, -173.5498423)\n",
      "(35.8620298, -217.5031125, -201.5498152)\n",
      "(31.8776548, -220.4913938, -229.5497881)\n",
      "(17.5517033, -239.6960905, -60.7900128)\n",
      "(31.4306098, -234.9480436, -93.9900153)\n",
      "(35.448188, -229.8347622, -118.7900172)\n",
      "(37.6395943, -225.817184, -147.5900193)\n",
      "(40.5614693, -221.7996058, -170.790021)\n",
      "(43.4833443, -225.817184, -202.7900234)\n",
      "(22.3208161, -224.1900942, -45.2200268)\n",
      "(15.3169099, -219.0963442, -81.2200349)\n",
      "(23.2758942, -214.9576723, -108.0200409)\n",
      "(21.0473786, -214.0025942, -137.2200474)\n",
      "(25.1860505, -216.2311098, -165.2200537)\n",
      "(26.1411286, -219.0963442, -188.4200589)\n",
      "(37.2837067, -223.235016, -218.4200656)\n",
      "(25.1808631, -149.3746041, -52.1000191)\n",
      "(24.1554725, -145.2730416, -68.1000227)\n",
      "(24.1554725, -146.2984322, -82.900026)\n",
      "(23.1300819, -151.0835884, -102.9000305)\n",
      "(26.2062537, -159.2867133, -121.7000347)\n",
      "(31.3332068, -174.3257756, -130.9000367)\n",
      "(31.3332068, -183.2124943, -148.9000407)\n"
     ]
    }
   ],
   "source": [
    "for subject, container in bids_surgery_poi.enumerate_subjects():\n",
    "    poi, ct, subreg, vertseg = get_files(container)\n",
    "    subject = container.name\n",
    "    cutouts = make_cutouts(subject, poi, ct, subreg, vertseg)"
   ]
  },
  {
   "cell_type": "code",
   "execution_count": 10,
   "metadata": {},
   "outputs": [
    {
     "data": {
      "text/plain": [
       "{'subject': '007',\n",
       " 'vertebra': 7,\n",
       " 'ct_nii': <BIDS.nii_wrapper.NII at 0x7f6a53cba680>,\n",
       " 'subreg_nii': <BIDS.nii_wrapper.NII at 0x7f6a53cba920>,\n",
       " 'vertseg_nii': <BIDS.nii_wrapper.NII at 0x7f6a53cb9c30>,\n",
       " 'poi': POI(centroids={2: {90: (68.245, -145.401, 28.251), 91: (75.912, -153.898, 181.001), 92: (2.855, -176.184, 74.401), 93: (2.058, -170.762, 137.877)}, 3: {90: (69.61, -111.171, 30.185), 91: (70.883, -116.598, 172.032), 92: (2.657, -128.19299999999998, 83.327), 93: (1.17, -118.733, 118.765)}, 4: {90: (61.717, -91.432, 30.763), 91: (67.54, -84.103, 178.826), 92: (2.049, -70.617, 90.344), 93: (4.151, -75.353, 118.988)}, 5: {90: (74.16, -58.516, 40.451), 91: (75.749, -60.437, 173.471), 92: (8.176, -23.13, 80.883), 93: (14.072, -26.806, 124.99)}, 6: {90: (88.05, -17.962, 38.066), 91: (90.601, -13.384, 178.078), 92: (19.623, 15.136, 77.066), 93: (23.339, 8.707, 127.969)}, 7: {90: (101.411, 15.396, 39.948), 91: (93.574, 13.269, 173.652), 92: (32.407, 48.132, 78.346), 93: (33.605, 51.272, 127.506)}, 8: {90: (133.708, 48.137, 42.568), 91: (124.599, 52.261, 160.013), 92: (65.754, 85.261, 77.184), 93: (59.391, 91.881, 123.936)}}, orientation=('P', 'I', 'R'), zoom=(0.3418, 0.4, 0.3418), info={}, origin=(-42.8367142, -101.1812453, -96.1000289))}"
      ]
     },
     "execution_count": 10,
     "metadata": {},
     "output_type": "execute_result"
    }
   ],
   "source": [
    "cutout = cutouts[5]\n",
    "cutout"
   ]
  },
  {
   "cell_type": "code",
   "execution_count": 8,
   "metadata": {},
   "outputs": [
    {
     "name": "stdout",
     "output_type": "stream",
     "text": [
      "\u001b[96m[*] Save ct.nii.gz as int16\u001b[0m\u001b[0m\n",
      "\u001b[96m[*] Save subreg.nii.gz as uint8\u001b[0m\u001b[0m\n",
      "\u001b[96m[*] Save vertseg.nii.gz as uint8\u001b[0m\u001b[0m\n",
      "\u001b[96m[*] Centroids saved: poi.json in format POI\u001b[0m\u001b[0m\n"
     ]
    }
   ],
   "source": [
    "cutout['ct_nii'].save('ct.nii.gz')\n",
    "cutout['subreg_nii'].save('subreg.nii.gz')\n",
    "cutout['vertseg_nii'].save('vertseg.nii.gz')\n",
    "cutout['poi'].save('poi.json')"
   ]
  },
  {
   "cell_type": "code",
   "execution_count": 9,
   "metadata": {},
   "outputs": [
    {
     "name": "stdout",
     "output_type": "stream",
     "text": [
      "\u001b[0m[ ] Image reoriented from ('L', 'A', 'S') to ('P', 'I', 'R')\u001b[0m\u001b[0m\n",
      "\u001b[0m[*] Centroids reoriented from ('L', 'A', 'S') to ('P', 'I', 'R')\u001b[0m\u001b[0m\n"
     ]
    },
    {
     "name": "stderr",
     "output_type": "stream",
     "text": [
      "100%|██████████| 1/1 [00:00<00:00, 10.81it/s]\n"
     ]
    },
    {
     "data": {
      "application/vnd.jupyter.widget-view+json": {
       "model_id": "f6539363509240ecb59245e982fc43e7",
       "version_major": 2,
       "version_minor": 0
      },
      "text/plain": [
       "Widget(value=\"<iframe src='http://localhost:34411/index.html?ui=P_0x7f6a541ef040_0&reconnect=auto' style='widt…"
      ]
     },
     "metadata": {},
     "output_type": "display_data"
    }
   ],
   "source": [
    "visualize_pois(ctd = cutout['poi'], seg_vert = cutout['vertseg_nii'], vert_idx_list=[cutout['vertebra']])"
   ]
  },
  {
   "cell_type": "code",
   "execution_count": 23,
   "metadata": {},
   "outputs": [],
   "source": [
    "def calc_sfc_distances(poi: POI, vertseg: NII, vert: int) -> list:\n",
    "    \"\"\"\n",
    "    Calculate the shortest distance between the surface of a vertebra and the points of interest.\n",
    "\n",
    "    Args:\n",
    "        poi (POI): The points of interest.\n",
    "        vertseg (NII): The segmentation of the vertebrae.\n",
    "        vert (int): The vertebra to calculate the distances for.\n",
    "\n",
    "    Returns:\n",
    "        list: A list of distances for each point of interest.\n",
    "    \"\"\"\n",
    "    sfc_distances = {}\n",
    "    vertseg_arr = vertseg.rescale((1,1,1)).get_array().copy()\n",
    "    vert_msk = vertseg_arr == vert\n",
    "    vertseg_arr[vert_msk] = 1\n",
    "    vertseg_arr[~vert_msk] = 0\n",
    "\n",
    "    eroded = binary_erosion(vertseg_arr, iterations=2)\n",
    "    vertseg_arr[eroded] = 0\n",
    "    for v_idx, p_idx, coords in poi.rescale((1,1,1)).items():\n",
    "        x, y, z = coords\n",
    "        if v_idx != vert:\n",
    "            continue\n",
    "        sfc_coords = np.where(vertseg_arr == 1)\n",
    "        distances = np.sqrt((sfc_coords[0] - x)**2 + (sfc_coords[1] - y)**2 + (sfc_coords[2] - z)**2)\n",
    "        sfc_distances[p_idx] = np.min(distances)\n",
    "\n",
    "    return sfc_distances"
   ]
  },
  {
   "cell_type": "code",
   "execution_count": 24,
   "metadata": {},
   "outputs": [
    {
     "name": "stdout",
     "output_type": "stream",
     "text": [
      "\u001b[0m[*] Rescaled centroid coordinates to spacing (x, y, z) = (1, 1, 1) mm\u001b[0m\u001b[0m\n"
     ]
    },
    {
     "data": {
      "text/plain": [
       "{90: 4.838407860422128,\n",
       " 91: 4.100942145656975,\n",
       " 92: 0.3146065300604878,\n",
       " 93: 1.1497855588658308}"
      ]
     },
     "execution_count": 24,
     "metadata": {},
     "output_type": "execute_result"
    }
   ],
   "source": [
    "calc_sfc_distances(cutout['poi'], cutout['vertseg_nii'], cutout['vertebra'])"
   ]
  },
  {
   "cell_type": "code",
   "execution_count": 26,
   "metadata": {},
   "outputs": [
    {
     "name": "stdout",
     "output_type": "stream",
     "text": [
      "\u001b[0m[*] Rescaled centroid coordinates to spacing (x, y, z) = (1, 1, 1) mm\u001b[0m\u001b[0m\n",
      "\u001b[0m[*] Rescaled centroid coordinates to spacing (x, y, z) = (1, 1, 1) mm\u001b[0m\u001b[0m\n",
      "\u001b[0m[*] Rescaled centroid coordinates to spacing (x, y, z) = (1, 1, 1) mm\u001b[0m\u001b[0m\n",
      "\u001b[0m[*] Rescaled centroid coordinates to spacing (x, y, z) = (1, 1, 1) mm\u001b[0m\u001b[0m\n",
      "\u001b[0m[*] Rescaled centroid coordinates to spacing (x, y, z) = (1, 1, 1) mm\u001b[0m\u001b[0m\n",
      "\u001b[0m[*] Rescaled centroid coordinates to spacing (x, y, z) = (1, 1, 1) mm\u001b[0m\u001b[0m\n",
      "\u001b[0m[*] Rescaled centroid coordinates to spacing (x, y, z) = (1, 1, 1) mm\u001b[0m\u001b[0m\n"
     ]
    }
   ],
   "source": [
    "for cutout in cutouts:\n",
    "    sfc_distances = calc_sfc_distances(cutout['poi'], cutout['vertseg_nii'], cutout['vertebra'])\n",
    "    for p_idx, distance in sfc_distances.items():\n",
    "        cutout['d_sfc_' + str(p_idx)] = distance"
   ]
  },
  {
   "cell_type": "code",
   "execution_count": 32,
   "metadata": {},
   "outputs": [
    {
     "data": {
      "text/html": [
       "<div>\n",
       "<style scoped>\n",
       "    .dataframe tbody tr th:only-of-type {\n",
       "        vertical-align: middle;\n",
       "    }\n",
       "\n",
       "    .dataframe tbody tr th {\n",
       "        vertical-align: top;\n",
       "    }\n",
       "\n",
       "    .dataframe thead th {\n",
       "        text-align: right;\n",
       "    }\n",
       "</style>\n",
       "<table border=\"1\" class=\"dataframe\">\n",
       "  <thead>\n",
       "    <tr style=\"text-align: right;\">\n",
       "      <th></th>\n",
       "      <th>vertebra</th>\n",
       "      <th>d_sfc_90</th>\n",
       "      <th>d_sfc_91</th>\n",
       "      <th>d_sfc_92</th>\n",
       "      <th>d_sfc_93</th>\n",
       "    </tr>\n",
       "  </thead>\n",
       "  <tbody>\n",
       "    <tr>\n",
       "      <th>count</th>\n",
       "      <td>7.000000</td>\n",
       "      <td>7.000000</td>\n",
       "      <td>7.000000</td>\n",
       "      <td>7.000000</td>\n",
       "      <td>7.000000</td>\n",
       "    </tr>\n",
       "    <tr>\n",
       "      <th>mean</th>\n",
       "      <td>5.000000</td>\n",
       "      <td>4.010787</td>\n",
       "      <td>4.755451</td>\n",
       "      <td>1.662263</td>\n",
       "      <td>1.854666</td>\n",
       "    </tr>\n",
       "    <tr>\n",
       "      <th>std</th>\n",
       "      <td>2.160247</td>\n",
       "      <td>0.926042</td>\n",
       "      <td>1.250470</td>\n",
       "      <td>1.337239</td>\n",
       "      <td>0.855068</td>\n",
       "    </tr>\n",
       "    <tr>\n",
       "      <th>min</th>\n",
       "      <td>2.000000</td>\n",
       "      <td>2.908072</td>\n",
       "      <td>3.826778</td>\n",
       "      <td>0.262286</td>\n",
       "      <td>0.945657</td>\n",
       "    </tr>\n",
       "    <tr>\n",
       "      <th>25%</th>\n",
       "      <td>3.500000</td>\n",
       "      <td>3.198414</td>\n",
       "      <td>4.115813</td>\n",
       "      <td>0.708831</td>\n",
       "      <td>1.325927</td>\n",
       "    </tr>\n",
       "    <tr>\n",
       "      <th>50%</th>\n",
       "      <td>5.000000</td>\n",
       "      <td>4.194370</td>\n",
       "      <td>4.230253</td>\n",
       "      <td>1.148416</td>\n",
       "      <td>1.627674</td>\n",
       "    </tr>\n",
       "    <tr>\n",
       "      <th>75%</th>\n",
       "      <td>6.500000</td>\n",
       "      <td>4.637863</td>\n",
       "      <td>4.762888</td>\n",
       "      <td>2.435806</td>\n",
       "      <td>2.149505</td>\n",
       "    </tr>\n",
       "    <tr>\n",
       "      <th>max</th>\n",
       "      <td>8.000000</td>\n",
       "      <td>5.300514</td>\n",
       "      <td>7.473724</td>\n",
       "      <td>3.935867</td>\n",
       "      <td>3.458464</td>\n",
       "    </tr>\n",
       "  </tbody>\n",
       "</table>\n",
       "</div>"
      ],
      "text/plain": [
       "       vertebra  d_sfc_90  d_sfc_91  d_sfc_92  d_sfc_93\n",
       "count  7.000000  7.000000  7.000000  7.000000  7.000000\n",
       "mean   5.000000  4.010787  4.755451  1.662263  1.854666\n",
       "std    2.160247  0.926042  1.250470  1.337239  0.855068\n",
       "min    2.000000  2.908072  3.826778  0.262286  0.945657\n",
       "25%    3.500000  3.198414  4.115813  0.708831  1.325927\n",
       "50%    5.000000  4.194370  4.230253  1.148416  1.627674\n",
       "75%    6.500000  4.637863  4.762888  2.435806  2.149505\n",
       "max    8.000000  5.300514  7.473724  3.935867  3.458464"
      ]
     },
     "execution_count": 32,
     "metadata": {},
     "output_type": "execute_result"
    }
   ],
   "source": [
    "cutouts_df = pd.DataFrame(cutouts)\n",
    "cutouts_df.describe()"
   ]
  },
  {
   "cell_type": "code",
   "execution_count": 12,
   "metadata": {},
   "outputs": [],
   "source": [
    "# analyze all pois for all subjects\n",
    "poi_iso_pir = []\n",
    "for subject, container in bids_surgery_poi.enumerate_subjects():\n",
    "    poi = get_poi(container)\n",
    "    poi.rescale_().reorient_()\n",
    "\n",
    "    poi_iso_pir.append({\n",
    "        'subject': container.name,\n",
    "        'poi': poi\n",
    "    })"
   ]
  },
  {
   "cell_type": "code",
   "execution_count": 15,
   "metadata": {},
   "outputs": [],
   "source": [
    "def sanity_check_pois(poi: POI):\n",
    "    \"\"\"\n",
    "    Check the points of interest for sanity.\n",
    "\n",
    "    Args:\n",
    "        poi (POI): The points of interest to check.\n",
    "\n",
    "    Returns:\n",
    "        bool: True if the points of interest are sane, False otherwise.\n",
    "    \"\"\"\n",
    "    unique_vertebrae = set([key[0] for key in poi.keys()])\n",
    "\n",
    "    for v_idx in unique_vertebrae:\n",
    "        # 90 is always left of 91, in PIR space that means a smaller R value\n",
    "        assert poi[v_idx, 90][2] < poi[v_idx, 91][2], \"POI 90 has coordinates \" + str(poi[v_idx, 90]) + \" and POI 91 has coordinates \" + str(poi[v_idx, 91])\n",
    "\n",
    "        # 92 is always left of 93, in PIR space that means a smaller R value\n",
    "        assert poi[v_idx, 92][2] < poi[v_idx, 93][2], \"POI 92 has coordinates \" + str(poi[v_idx, 92]) + \" and POI 93 has coordinates \" + str(poi[v_idx, 93])\n",
    "                                                                                                                                             \n",
    "        # 92 is always anterior of 90, in PIR space that means a smaller P value\n",
    "        assert poi[v_idx, 92][0] < poi[v_idx, 90][0], \"POI 92 has coordinates \" + str(poi[v_idx, 92]) + \" and POI 90 has coordinates \" + str(poi[v_idx, 90])\n",
    "\n",
    "        # 93 is always anterior of 91, in PIR space that means a smaller P value\n",
    "        assert poi[v_idx, 93][0] < poi[v_idx, 91][0], \"POI 93 has coordinates \" + str(poi[v_idx, 93]) + \" and POI 91 has coordinates \" + str(poi[v_idx, 91])"
   ]
  },
  {
   "cell_type": "code",
   "execution_count": 16,
   "metadata": {},
   "outputs": [],
   "source": [
    "for dict in poi_iso_pir:\n",
    "    sanity_check_pois(dict['poi'])"
   ]
  },
  {
   "cell_type": "markdown",
   "metadata": {},
   "source": [
    "The most basic sanity checks are successful, however the surface distance is really worrying. "
   ]
  }
 ],
 "metadata": {
  "kernelspec": {
   "display_name": "thesis",
   "language": "python",
   "name": "python3"
  },
  "language_info": {
   "codemirror_mode": {
    "name": "ipython",
    "version": 3
   },
   "file_extension": ".py",
   "mimetype": "text/x-python",
   "name": "python",
   "nbconvert_exporter": "python",
   "pygments_lexer": "ipython3",
   "version": "3.10.13"
  }
 },
 "nbformat": 4,
 "nbformat_minor": 2
}
