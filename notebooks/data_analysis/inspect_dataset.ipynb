{
 "cells": [
  {
   "cell_type": "code",
   "execution_count": 16,
   "metadata": {},
   "outputs": [],
   "source": [
    "import sys\n",
    "sys.path.append('/home/daniel/Documents/Uni/MT/poi-prediction')\n",
    "from src.dataset.dataset import GruberDataset, ImplantsDataset\n",
    "\n",
    "from utils.misc import np_to_bids_nii\n",
    "from BIDS import POI\n",
    "from BIDS.vert_constants import conversion_poi2text\n",
    "from BIDS.POI_plotter import visualize_pois\n",
    "import torch\n",
    "import pandas as pd\n",
    "\n",
    "import numpy as np\n",
    "import ipywidgets as widgets\n",
    "\n",
    "dataset = \"Implants\"\n",
    "# dataset = \"Gruber\"\n",
    "\n",
    "gruber_master_df = pd.read_csv('/home/daniel/Data/Gruber/cutouts_scale-1-1-1/master_df.csv')\n",
    "implants_master_df = pd.read_csv('/home/daniel/Data/Implants/cutouts_scale-1-1-1/master_df.csv')\n",
    "\n",
    "if dataset == \"Gruber\":\n",
    "    ds = GruberDataset(\n",
    "        master_df = gruber_master_df,\n",
    "        input_shape = (128,128,96),\n",
    "        include_com = False,\n",
    "        flip_prob = 0\n",
    "    )\n",
    "    poi2text = conversion_poi2text\n",
    "\n",
    "elif dataset == \"Implants\":\n",
    "    ds = ImplantsDataset(\n",
    "        master_df = implants_master_df,\n",
    "        input_shape = (128,128,96),\n",
    "        include_com = False,\n",
    "        flip_prob = 0,\n",
    "        poi_file_ending = 'poi_surface.json'\n",
    "    )\n",
    "    poi2text = {\n",
    "        90: 'Left Entry',\n",
    "        91: 'Right Entry',\n",
    "        92: 'Left Target',\n",
    "        93: 'Right Target',\n",
    "    }\n",
    "\n",
    "#Iterate through the ds to create a mapping from subject-vertebra pair to corresponding index\n",
    "sub_vert_to_idx = {}\n",
    "for idx, dd in enumerate(ds):\n",
    "    sub_vert_to_idx[(dd['subject'], dd['vertebra'])] = idx\n"
   ]
  },
  {
   "cell_type": "code",
   "execution_count": 17,
   "metadata": {},
   "outputs": [
    {
     "data": {
      "text/plain": [
       "1"
      ]
     },
     "execution_count": 17,
     "metadata": {},
     "output_type": "execute_result"
    }
   ],
   "source": [
    "sub_vert_to_idx['2', 20]"
   ]
  },
  {
   "cell_type": "code",
   "execution_count": 18,
   "metadata": {},
   "outputs": [],
   "source": [
    "# Define some useful utility functions\n",
    "def get_dd_ctd(dd, poi_list = [90,91,92,93]):\n",
    "    ctd = {}\n",
    "    vertebra = dd['vertebra']\n",
    "\n",
    "    for poi_coords, poi_idx in zip(dd['target'], dd['target_indices']):\n",
    "        coords = (poi_coords[0].item(), poi_coords[1].item(), poi_coords[2].item())\n",
    "        if poi_list is None or poi_idx in poi_list:\n",
    "            ctd[vertebra, poi_idx.item()] = coords\n",
    "\n",
    "    ctd = POI(centroids = ctd, orientation = ('L', 'A', 'S'), zoom = (1,1,1), shape = (128,128,96))\n",
    "    return ctd\n",
    "\n",
    "def get_ctd(target, target_indices, vertebra, poi_list):\n",
    "    ctd = {}\n",
    "    for poi_coords, poi_idx in zip(target, target_indices):\n",
    "        coords = (poi_coords[0].item(), poi_coords[1].item(), poi_coords[2].item())\n",
    "        if poi_list is None or poi_idx in poi_list:\n",
    "            ctd[vertebra, poi_idx.item()] = coords\n",
    "\n",
    "    ctd = POI(centroids = ctd, orientation = ('L', 'A', 'S'), zoom = (1,1,1), shape = (128,128,96))\n",
    "    return ctd\n",
    "\n",
    "def get_vert_msk_nii(dd):\n",
    "    vertebra = dd['vertebra']\n",
    "    msk = dd['input'].squeeze(0)\n",
    "    return vertseg_to_vert_msk_nii(vertebra, msk)\n",
    "\n",
    "def vertseg_to_vert_msk_nii(vertebra, msk):\n",
    "    vert_msk = (msk != 0) * vertebra\n",
    "    vert_msk_nii = np_to_bids_nii(vert_msk.numpy().astype(np.int32))\n",
    "    vert_msk_nii.seg = True\n",
    "    return vert_msk_nii\n",
    "\n",
    "def get_vertseg_nii(dd):\n",
    "    vertseg = dd['input'].squeeze(0)\n",
    "    vertseg_nii = np_to_bids_nii(vertseg.numpy().astype(np.int32))\n",
    "    vertseg_nii.seg = True\n",
    "    return vertseg_nii\n",
    "\n",
    "def get_vert_points(dd):\n",
    "    msk = dd['input'].squeeze(0)\n",
    "    vert_points = torch.where(msk)\n",
    "    vert_points = torch.stack(vert_points, dim=1)\n",
    "    return vert_points\n",
    "\n",
    "def get_target_entry_points(dd):\n",
    "    ctd = get_ctd(dd)\n",
    "    vertebra = dd['vertebra']\n",
    "    p_90 = torch.tensor(ctd[vertebra, 90])\n",
    "    p_92 = torch.tensor(ctd[vertebra, 92])\n",
    "\n",
    "    p_91 = torch.tensor(ctd[vertebra, 91])\n",
    "    p_93 = torch.tensor(ctd[vertebra, 93])\n",
    "\n",
    "    return p_90, p_92, p_91, p_93\n",
    "\n",
    "def tensor_to_ctd(t, vertebra, origin, rotation, idx_list = None, shape = (128, 128, 96), zoom = (1,1,1), offset = (0,0,0)):\n",
    "    ctd = {}\n",
    "    for i, coords in enumerate(t):\n",
    "        coords = coords.float() - torch.tensor(offset)\n",
    "        coords = (coords[0].item(), coords[1].item(), coords[2].item())\n",
    "        if idx_list is None:\n",
    "            ctd[vertebra, i] = coords\n",
    "        elif i < len(idx_list):\n",
    "            ctd[vertebra, idx_list[i]] = coords\n",
    "\n",
    "    ctd = POI(centroids = ctd, orientation = ('L', 'A', 'S'), zoom = zoom, shape = shape, origin = origin, rotation = rotation)\n",
    "    return ctd\n",
    "\n",
    "poi_types = {f\"{key}: {value}\": key for key, value in poi2text.items()}\n",
    "\n",
    "subjects = sorted(list(set(key[0] for key in sub_vert_to_idx.keys())))\n",
    "vertebrae = sorted(list(set(key[1] for key in sub_vert_to_idx.keys())))\n",
    "\n",
    "def display_pois():\n",
    "    # Multi-Select for POI Types\n",
    "    subject_select = widgets.Dropdown(\n",
    "        options=subjects,\n",
    "        description='Subject:',\n",
    "        disabled=False\n",
    "    )\n",
    "\n",
    "    vertebra_select = widgets.Dropdown(\n",
    "        options=vertebrae,\n",
    "        description='Vertebra:',\n",
    "        disabled=False\n",
    "    )\n",
    "\n",
    "    poi_type_select = widgets.SelectMultiple(\n",
    "        options=poi_types,\n",
    "        rows=23 if dataset == \"Gruber\" else 4,\n",
    "        description='POI Types',\n",
    "        tooltip='Select the POI types to visualize',\n",
    "        disabled=False\n",
    "    )\n",
    "\n",
    "    def update_vert_select(*args):\n",
    "        vertebra_select.options = sorted(list(set(gruber_master_df[gruber_master_df['subject'] == subject_select.value]['vertebra'])))\n",
    "\n",
    "    subject_select.observe(update_vert_select, 'value')\n",
    "\n",
    "    # Button for updating the visualization\n",
    "    update_button = widgets.Button(\n",
    "        description='Update',\n",
    "        disabled=False,\n",
    "        button_style='', # 'success', 'info', 'warning', 'danger' or ''\n",
    "        tooltip='Update the visualization',\n",
    "        icon='check' # (FontAwesome names without the `fa-` prefix)\n",
    "    )\n",
    "\n",
    "    def on_button_clicked(b):\n",
    "        dd = ds[sub_vert_to_idx[(subject_select.value, vertebra_select.value)]]\n",
    "        \n",
    "        seg_vert = get_vert_msk_nii(dd)\n",
    "        target = dd['target']\n",
    "        target_indices = dd['target_indices']\n",
    "        vertebra = dd['vertebra']\n",
    "        subject = dd['subject']\n",
    "        ctd = get_ctd(target, target_indices, vertebra, poi_list=poi_type_select.value)\n",
    "        print(f'Visualizing Subject {subject}, Vertebra {vertebra}, POIs {poi_type_select.value}')\n",
    "        visualize_pois(\n",
    "            ctd = ctd,\n",
    "            seg_vert = seg_vert,\n",
    "            vert_idx_list = [vertebra],\n",
    "        )\n",
    "\n",
    "    update_button.on_click(on_button_clicked)\n",
    "\n",
    "    display(subject_select, vertebra_select, poi_type_select, update_button)"
   ]
  },
  {
   "cell_type": "code",
   "execution_count": 19,
   "metadata": {},
   "outputs": [
    {
     "data": {
      "application/vnd.jupyter.widget-view+json": {
       "model_id": "f6a5d211228549f6a802353166cef9c1",
       "version_major": 2,
       "version_minor": 0
      },
      "text/plain": [
       "Dropdown(description='Subject:', options=('10', '2', '3', '5', '6', '7', '8', '9'), value='10')"
      ]
     },
     "metadata": {},
     "output_type": "display_data"
    },
    {
     "data": {
      "application/vnd.jupyter.widget-view+json": {
       "model_id": "492712db63a743dd9a9a6258907a7069",
       "version_major": 2,
       "version_minor": 0
      },
      "text/plain": [
       "Dropdown(description='Vertebra:', options=(2, 3, 4, 5, 6, 7, 8, 10, 11, 12, 13, 14, 15, 16, 17, 18, 19, 20, 21…"
      ]
     },
     "metadata": {},
     "output_type": "display_data"
    },
    {
     "data": {
      "application/vnd.jupyter.widget-view+json": {
       "model_id": "cbfe67697d764075b17531b0493fb585",
       "version_major": 2,
       "version_minor": 0
      },
      "text/plain": [
       "SelectMultiple(description='POI Types', options={'90: Left Entry': 90, '91: Right Entry': 91, '92: Left Target…"
      ]
     },
     "metadata": {},
     "output_type": "display_data"
    },
    {
     "data": {
      "application/vnd.jupyter.widget-view+json": {
       "model_id": "8d3d487168da4a70befd3b988173d396",
       "version_major": 2,
       "version_minor": 0
      },
      "text/plain": [
       "Button(description='Update', icon='check', style=ButtonStyle(), tooltip='Update the visualization')"
      ]
     },
     "metadata": {},
     "output_type": "display_data"
    },
    {
     "name": "stdout",
     "output_type": "stream",
     "text": [
      "Visualizing Subject 10, Vertebra 21, POIs (91,)\n",
      "\u001b[0m[ ] Image reoriented from ('L', 'A', 'S') to ('P', 'I', 'R')\u001b[0m\u001b[0m\n",
      "\u001b[0m[*] Centroids reoriented from ('L', 'A', 'S') to ('P', 'I', 'R')\u001b[0m\u001b[0m\n",
      "('P', 'I', 'R') ('P', 'I', 'R')\n"
     ]
    },
    {
     "name": "stderr",
     "output_type": "stream",
     "text": [
      "100%|██████████| 1/1 [00:00<00:00, 25.02it/s]\n"
     ]
    },
    {
     "name": "stdout",
     "output_type": "stream",
     "text": [
      "Visualizing Subject 10, Vertebra 21, POIs (92,)\n",
      "\u001b[0m[ ] Image reoriented from ('L', 'A', 'S') to ('P', 'I', 'R')\u001b[0m\u001b[0m\n",
      "\u001b[0m[*] Centroids reoriented from ('L', 'A', 'S') to ('P', 'I', 'R')\u001b[0m\u001b[0m\n",
      "('P', 'I', 'R') ('P', 'I', 'R')\n"
     ]
    },
    {
     "name": "stderr",
     "output_type": "stream",
     "text": [
      "100%|██████████| 1/1 [00:00<00:00, 28.79it/s]\n"
     ]
    },
    {
     "name": "stdout",
     "output_type": "stream",
     "text": [
      "Visualizing Subject 10, Vertebra 21, POIs (93,)\n",
      "\u001b[0m[ ] Image reoriented from ('L', 'A', 'S') to ('P', 'I', 'R')\u001b[0m\u001b[0m\n",
      "\u001b[0m[*] Centroids reoriented from ('L', 'A', 'S') to ('P', 'I', 'R')\u001b[0m\u001b[0m\n",
      "('P', 'I', 'R') ('P', 'I', 'R')\n"
     ]
    },
    {
     "name": "stderr",
     "output_type": "stream",
     "text": [
      "100%|██████████| 1/1 [00:00<00:00, 26.53it/s]\n"
     ]
    }
   ],
   "source": [
    "display_pois()"
   ]
  }
 ],
 "metadata": {
  "kernelspec": {
   "display_name": "thesis",
   "language": "python",
   "name": "python3"
  },
  "language_info": {
   "codemirror_mode": {
    "name": "ipython",
    "version": 3
   },
   "file_extension": ".py",
   "mimetype": "text/x-python",
   "name": "python",
   "nbconvert_exporter": "python",
   "pygments_lexer": "ipython3",
   "version": "3.10.13"
  }
 },
 "nbformat": 4,
 "nbformat_minor": 2
}
