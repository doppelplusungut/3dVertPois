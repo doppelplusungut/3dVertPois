{
 "cells": [
  {
   "cell_type": "code",
   "execution_count": 1,
   "metadata": {},
   "outputs": [],
   "source": [
    "import sys, os\n",
    "sys.path.append('/home/daniel/Documents/Uni/MT/poi-prediction')\n",
    "from src.dataset.dataset import GruberDataset, ImplantsDataset, JointDataset\n",
    "import time\n",
    "from utils.misc import np_to_bids_nii\n",
    "from utils.dataloading_utils import compute_surface\n",
    "from tqdm import tqdm\n",
    "\n",
    "from BIDS import POI, NII\n",
    "from BIDS.POI_plotter import visualize_pois\n",
    "import torch\n",
    "import pandas as pd\n",
    "\n",
    "import numpy as np\n",
    "import matplotlib.pyplot as plt\n",
    "\n",
    "gruber_master_df = pd.read_csv('/home/daniel/Data/Gruber/cutouts_scale-1-1-1/master_df.csv')\n",
    "ds = GruberDataset(\n",
    "    master_df = gruber_master_df,\n",
    "    input_shape = (152,152,152),\n",
    "    include_com = False,\n",
    "    require_heatmap = False,\n",
    "    flip_prob = 0\n",
    ")"
   ]
  },
  {
   "cell_type": "code",
   "execution_count": 19,
   "metadata": {},
   "outputs": [],
   "source": [
    "def fit_plane_to_points(X):\n",
    "    n_points = X.shape[0]\n",
    "    X = torch.cat([X, torch.ones(n_points, 1)], dim=1)  # Augment with ones for D coefficient\n",
    "    U, S, V = torch.linalg.svd(X, full_matrices=False)\n",
    "    plane_coefficients = V[-1, :]\n",
    "    A, B, C, D = plane_coefficients\n",
    "\n",
    "    # Calculate projection error as the sum of squared distances of points to the plane\n",
    "    n = torch.tensor([A, B, C])\n",
    "    distances = (torch.matmul(X[:, :-1], n) + D) / torch.linalg.norm(n)\n",
    "    projection_error = torch.sum(distances ** 2)\n",
    "\n",
    "    # Step 3: Project points onto the plane\n",
    "    n_normalized = n / torch.linalg.norm(n)\n",
    "    projection_vectors = distances.view(-1, 1) * n_normalized\n",
    "    points_projected = X[:, :-1] - projection_vectors  # Use original points, not augmented\n",
    "\n",
    "    return plane_coefficients, distances, points_projected"
   ]
  },
  {
   "cell_type": "code",
   "execution_count": 20,
   "metadata": {},
   "outputs": [],
   "source": [
    "central_poi_ids = [81,101,103,102,104,125,127,134,136]"
   ]
  },
  {
   "cell_type": "code",
   "execution_count": null,
   "metadata": {},
   "outputs": [],
   "source": [
    "dd = ds[0]\n",
    "poi_mask = np.isin(dd['target_indices'], central_poi_ids)\n",
    "central_pois = dd['target'][poi_mask]"
   ]
  },
  {
   "cell_type": "code",
   "execution_count": 46,
   "metadata": {},
   "outputs": [],
   "source": [
    "avg_projection_distances = torch.tensor([])\n",
    "avg_angles = torch.tensor([])\n",
    "for dd in ds:\n",
    "    poi_mask = np.isin(dd['target_indices'], central_poi_ids)\n",
    "    central_pois = dd['target'][poi_mask]\n",
    "    coeffs, d, _ = fit_plane_to_points(central_pois.clone().detach())\n",
    "    avg_projection_distances = torch.cat([avg_projection_distances, d])\n",
    "    normal = coeffs[:3]\n",
    "    normal = normal / torch.linalg.norm(normal)\n",
    "    n_ref = torch.tensor([1,0,0]).float()\n",
    "    abs_cos_theta = torch.abs(torch.dot(normal, n_ref))\n",
    "    angle = torch.acos(abs_cos_theta)\n",
    "    angle = angle * 180 / np.pi\n",
    "    avg_angles = torch.cat([avg_angles, angle.view(1)])"
   ]
  },
  {
   "cell_type": "code",
   "execution_count": 47,
   "metadata": {},
   "outputs": [
    {
     "data": {
      "image/png": "[encoded data removed]",
      "text/plain": [
       "<Figure size 640x480 with 1 Axes>"
      ]
     },
     "metadata": {},
     "output_type": "display_data"
    },
    {
     "data": {
      "image/png": "[encoded data removed]",
      "text/plain": [
       "<Figure size 640x480 with 1 Axes>"
      ]
     },
     "metadata": {},
     "output_type": "display_data"
    }
   ],
   "source": [
    "#Plot the average projection distance for each sample\n",
    "avg_projection_distances = np.array(avg_projection_distances)\n",
    "avg_projection_distances = np.abs(avg_projection_distances)\n",
    "\n",
    "plt.hist(avg_projection_distances, bins=100)\n",
    "plt.show()\n",
    "\n",
    "#Plot the average angle between the normal of the plane and the reference normal\n",
    "avg_angles = np.array(avg_angles)\n",
    "plt.hist(avg_angles, bins=100)\n",
    "plt.show()"
   ]
  },
  {
   "cell_type": "code",
   "execution_count": 56,
   "metadata": {},
   "outputs": [
    {
     "name": "stdout",
     "output_type": "stream",
     "text": [
      "[0.02854537 0.1452278  0.31657554 0.58666556 1.17289445]\n"
     ]
    }
   ],
   "source": [
    "#Calculate mean, 5, 25, 50, 75, 95 percentiles for the projection distances\n",
    "percentiles = np.percentile(avg_projection_distances, [5,25,50,75,95])\n",
    "print(percentiles)"
   ]
  },
  {
   "cell_type": "code",
   "execution_count": 32,
   "metadata": {},
   "outputs": [
    {
     "data": {
      "text/plain": [
       "tensor([0.9977, 0.0492, 0.0459])"
      ]
     },
     "execution_count": 32,
     "metadata": {},
     "output_type": "execute_result"
    }
   ],
   "source": [
    "normal_vec = torch.tensor([p_coeffs[0], p_coeffs[1], p_coeffs[2]])\n",
    "normal_vec = normal_vec / torch.linalg.norm(normal_vec)\n",
    "normal_vec"
   ]
  }
 ],
 "metadata": {
  "kernelspec": {
   "display_name": "thesis",
   "language": "python",
   "name": "python3"
  },
  "language_info": {
   "codemirror_mode": {
    "name": "ipython",
    "version": 3
   },
   "file_extension": ".py",
   "mimetype": "text/x-python",
   "name": "python",
   "nbconvert_exporter": "python",
   "pygments_lexer": "ipython3",
   "version": "3.10.13"
  }
 },
 "nbformat": 4,
 "nbformat_minor": 2
}
